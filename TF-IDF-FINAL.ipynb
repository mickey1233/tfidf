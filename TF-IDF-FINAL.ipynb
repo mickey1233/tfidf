{
 "cells": [
  {
   "cell_type": "code",
   "execution_count": 10,
   "metadata": {},
   "outputs": [
    {
     "name": "stdout",
     "output_type": "stream",
     "text": [
      "start\n",
      "TfidfTransformer()\n",
      "[('效能', 1.0), ('原價', 0.8944271909999159), ('步驟', 0.8944271909999159), ('鏡頭', 0.8892295345851113), ('螢幕', 0.8496432448805563), ('影片', 0.8487991975781577), ('邊框', 0.78168730995877), ('網路', 0.7559289460184545), ('相片', 0.7559289460184545), ('藍牙', 0.7231954087443272), ('角度', 0.6259778958312991), ('用詞', 0.5991717283560805), ('筆功', 0.5786626819228691), ('討論文', 0.5305948644483514), ('差別', 0.5), ('私心', 0.4878951802515947), ('同感', 0.42896733016338695), ('一文', 0.42896733016338695), ('記錄', 0.408248290463863), ('黑框', 0.3361485795750258)]\n",
      "end\n"
     ]
    }
   ],
   "source": [
    "from sklearn.feature_extraction.text import CountVectorizer\n",
    "from sklearn.feature_extraction.text import TfidfTransformer\n",
    "from sklearn.feature_extraction.text import TfidfVectorizer\n",
    "import pandas as pd\n",
    "import numpy as np\n",
    "print('start')\n",
    "result = []\n",
    "word_set = set()\n",
    "word_list = []\n",
    "word1_list = []\n",
    "count = 0\n",
    "A = {}\n",
    "with open('test.txt', 'r', encoding ='utf-8') as f:\n",
    "    for i in f:\n",
    "        #print(i)\n",
    "        word_list.append(i)\n",
    "        count = count+1\n",
    "#print(word_list)\n",
    "vectorizer=CountVectorizer()\n",
    "transformer=TfidfTransformer(use_idf = True)\n",
    "tfidf=transformer.fit_transform(vectorizer.fit_transform(word_list))\n",
    "#print(transformer)\n",
    "#print(tfidf)\n",
    "for i in range(0,count):    \n",
    "    df = pd.DataFrame(tfidf[i].T.todense(), index = vectorizer.get_feature_names(), columns=[\"TF-IDF\"])\n",
    "    df = df.sort_values('TF-IDF', ascending=False)\n",
    "    word = df.index[0]\n",
    "    if word in word_set:\n",
    "        if A[word] < df.loc[word, 'TF-IDF']:\n",
    "            A[word] = df.loc[word, 'TF-IDF']\n",
    "    else:\n",
    "        A[word] = df.loc[word, 'TF-IDF']\n",
    "        \n",
    "k = sorted(A.items(), key = lambda x:x[1],reverse = True)\n",
    "print(k)\n",
    "for i in range(0,5):\n",
    "    result.append(k[i][0])\n",
    "    #print(k[i][0])\n",
    "with open('word2vec_keyword_noslpit', 'w', encoding ='utf-8', newline='') as csvfile:\n",
    "    for i in result:\n",
    "        csvfile.write(i)\n",
    "        csvfile.write('\\r\\n')\n",
    "csvfile.close()\n",
    "#print(result)\n",
    "print('end')"
   ]
  },
  {
   "cell_type": "code",
   "execution_count": null,
   "metadata": {},
   "outputs": [],
   "source": []
  },
  {
   "cell_type": "code",
   "execution_count": null,
   "metadata": {},
   "outputs": [],
   "source": []
  }
 ],
 "metadata": {
  "kernelspec": {
   "display_name": "Python 3",
   "language": "python",
   "name": "python3"
  }
 },
 "nbformat": 4,
 "nbformat_minor": 4
}
